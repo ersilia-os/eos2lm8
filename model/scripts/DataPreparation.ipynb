{
 "cells": [
  {
   "cell_type": "markdown",
   "metadata": {},
   "source": [
    "I am following the instructions from this GitHub issues thread: https://github.com/DSPsleeporg/smiles-transformer/issues/17"
   ]
  },
  {
   "cell_type": "code",
   "execution_count": 2,
   "metadata": {},
   "outputs": [],
   "source": [
    "import pandas as pd\n",
    "\n",
    "df = pd.read_table(\"chembl_24_chemreps.txt\")"
   ]
  },
  {
   "cell_type": "code",
   "execution_count": 4,
   "metadata": {},
   "outputs": [
    {
     "name": "stdout",
     "output_type": "stream",
     "text": [
      "97738\n"
     ]
    }
   ],
   "source": [
    "smiles = df[\"canonical_smiles\"].values\n",
    "to_drop = []\n",
    "for i,sm in enumerate(smiles):\n",
    "    if len(sm) > 100:\n",
    "        to_drop.append(i)\n",
    "    if df[\"chembl_id\"][i] == \"CHEMBL1201364\":\n",
    "        to_drop.append(i)\n",
    "print(len(to_drop))"
   ]
  },
  {
   "cell_type": "code",
   "execution_count": 5,
   "metadata": {},
   "outputs": [
    {
     "name": "stdout",
     "output_type": "stream",
     "text": [
      "1722297\n"
     ]
    },
    {
     "data": {
      "text/html": [
       "<div>\n",
       "<style scoped>\n",
       "    .dataframe tbody tr th:only-of-type {\n",
       "        vertical-align: middle;\n",
       "    }\n",
       "\n",
       "    .dataframe tbody tr th {\n",
       "        vertical-align: top;\n",
       "    }\n",
       "\n",
       "    .dataframe thead th {\n",
       "        text-align: right;\n",
       "    }\n",
       "</style>\n",
       "<table border=\"1\" class=\"dataframe\">\n",
       "  <thead>\n",
       "    <tr style=\"text-align: right;\">\n",
       "      <th></th>\n",
       "      <th>chembl_id</th>\n",
       "      <th>canonical_smiles</th>\n",
       "    </tr>\n",
       "  </thead>\n",
       "  <tbody>\n",
       "    <tr>\n",
       "      <th>0</th>\n",
       "      <td>CHEMBL153534</td>\n",
       "      <td>Cc1cc(cn1C)c2csc(N=C(N)N)n2</td>\n",
       "    </tr>\n",
       "    <tr>\n",
       "      <th>4</th>\n",
       "      <td>CHEMBL405398</td>\n",
       "      <td>Brc1cccc(Nc2ncnc3ccncc23)c1NCCN4CCOCC4</td>\n",
       "    </tr>\n",
       "    <tr>\n",
       "      <th>5</th>\n",
       "      <td>CHEMBL503634</td>\n",
       "      <td>COc1c(O)cc(O)c(C(=N)Cc2ccc(O)cc2)c1O</td>\n",
       "    </tr>\n",
       "    <tr>\n",
       "      <th>6</th>\n",
       "      <td>CHEMBL503643</td>\n",
       "      <td>CCOC(=O)c1cc2cc(ccc2[nH]1)C(=O)O</td>\n",
       "    </tr>\n",
       "    <tr>\n",
       "      <th>8</th>\n",
       "      <td>CHEMBL503870</td>\n",
       "      <td>C[C@H](NC(=O)OCc1ccccc1)C(=O)N[C@@H](C)C(=O)NN...</td>\n",
       "    </tr>\n",
       "  </tbody>\n",
       "</table>\n",
       "</div>"
      ],
      "text/plain": [
       "      chembl_id                                   canonical_smiles\n",
       "0  CHEMBL153534                        Cc1cc(cn1C)c2csc(N=C(N)N)n2\n",
       "4  CHEMBL405398             Brc1cccc(Nc2ncnc3ccncc23)c1NCCN4CCOCC4\n",
       "5  CHEMBL503634               COc1c(O)cc(O)c(C(=N)Cc2ccc(O)cc2)c1O\n",
       "6  CHEMBL503643                   CCOC(=O)c1cc2cc(ccc2[nH]1)C(=O)O\n",
       "8  CHEMBL503870  C[C@H](NC(=O)OCc1ccccc1)C(=O)N[C@@H](C)C(=O)NN..."
      ]
     },
     "execution_count": 5,
     "metadata": {},
     "output_type": "execute_result"
    }
   ],
   "source": [
    "df_dropped = df.drop(to_drop)\n",
    "df_dropped = df_dropped.drop(['standard_inchi', 'standard_inchi_key'], axis=1)\n",
    "L = len(df_dropped)\n",
    "print(L)\n",
    "df_dropped.head()"
   ]
  },
  {
   "cell_type": "code",
   "execution_count": 6,
   "metadata": {},
   "outputs": [],
   "source": [
    "df_dropped.to_csv('chembl_24.csv', index=False)"
   ]
  },
  {
   "cell_type": "code",
   "execution_count": null,
   "metadata": {},
   "outputs": [],
   "source": []
  }
 ],
 "metadata": {
  "interpreter": {
   "hash": "1e18c65755af76d43dc8108c365bd90ba2f5fba4461068b4b37a4fb8b6922d9a"
  },
  "kernelspec": {
   "display_name": "Python 3.9.12 ('base')",
   "language": "python",
   "name": "python3"
  },
  "language_info": {
   "codemirror_mode": {
    "name": "ipython",
    "version": 3
   },
   "file_extension": ".py",
   "mimetype": "text/x-python",
   "name": "python",
   "nbconvert_exporter": "python",
   "pygments_lexer": "ipython3",
   "version": "3.7.12"
  },
  "orig_nbformat": 4
 },
 "nbformat": 4,
 "nbformat_minor": 2
}
